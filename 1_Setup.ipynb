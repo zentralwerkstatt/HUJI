{
 "cells": [
  {
   "cell_type": "markdown",
   "metadata": {},
   "source": [
    "# Setting Up"
   ]
  },
  {
   "cell_type": "markdown",
   "metadata": {},
   "source": [
    "## Copyright notice\n",
    "\n",
    "This version (c) 2020 Fabian Offert, [MIT License](LICENSE)."
   ]
  },
  {
   "cell_type": "markdown",
   "metadata": {},
   "source": [
    "## Local Installation\n",
    "\n",
    "Welcome to the practical part of the workshop. Below you will find the necessary steps to setup your system to run the code that we will analyze and develop in the workshop. We will utilize an established combination of tools that is being used by many developers working experimentally on machine learning problems, consisting of the \n",
    "\n",
    "- [Python](https://python.org) 3 programming language, the\n",
    "- [Anaconda](https://www.anaconda.com) data science distribution,\n",
    "- [Numpy](http://www.numpy.org/), a library for fast numerical operations, the\n",
    "- [Jupyter Lab](https://github.com/jupyterlab/jupyterlab) literal programming system, and the\n",
    "- [PyTorch](https://pytorch.org/) machine learning framework.\n",
    "\n",
    "To set up this system, follow these steps:\n",
    "\n",
    "1. Download the installer package for [Miniconda 3](https://conda.io/en/master/miniconda.html) for your respective operating system and install Miniconda.\n",
    "2. Open a terminal and create a new [conda environment](https://conda.io/projects/conda/en/latest/user-guide/tasks/manage-environments.html) with the command `conda create -n workshop`.\n",
    "3. Activate the environment: `conda activate workshop`.\n",
    "4. Install [Juypter](https://jupyter.org/) and [Jupyter Lab](https://github.com/jupyterlab/jupyterlab): `conda install jupyter jupyterlab`.\n",
    "5. Install [PyTorch](https://pytorch.org/) : `conda install pytorch torchvision -c pytorch` (Windows: `conda install pytorch-cpu torchvision-cpu -c pytorch`). We assume that no GPU is available and thus install it without CUDA support.\n",
    "6. Install all other dependencies (run one after another):\n",
    "```\n",
    "conda install scipy beautifulsoup4 requests\n",
    "pip install lap\n",
    "```\n",
    "7. If you have Git installed, clone the [workshop repository](https://github.com/zentralwerkstatt/huji): `git clone https://github.com/zentralwerkstatt/esu2019.git`, or just download it from GitHub.\n",
    "8. Download and unzip the practice dataset into the repository folder: [https://zentralwerkstatt.org/files/wga.zip](https://zentralwerkstatt.org/files/wga.zip).\n",
    "\n",
    "If everything worked, you should be able to run `jupyter-lab` from within the repository folder without errors. A browser window will open with the Jupyter Lab interface. There, by clicking the \"File\" menu and the selecting \"New/Notebook\", a new Juypter notebook will open. Click on the first cell and enter `print('Hello world!')`, then press `Ctrl + Enter`. The text \"Hello world!\" will be printed below the cell. Congratulations, you are all set up!"
   ]
  },
  {
   "cell_type": "markdown",
   "metadata": {},
   "source": [
    "## Google Colab\n",
    "\n",
    "There is no installation required to run the notebooks in this repository in Google Colab, except having a Google account. Make sure to run your code on the GPU by selecting Runtime/Change runtime type and selecting \"GPU\"."
   ]
  }
 ],
 "metadata": {
  "kernelspec": {
   "display_name": "Python 3",
   "language": "python",
   "name": "python3"
  },
  "language_info": {
   "codemirror_mode": {
    "name": "ipython",
    "version": 3
   },
   "file_extension": ".py",
   "mimetype": "text/x-python",
   "name": "python",
   "nbconvert_exporter": "python",
   "pygments_lexer": "ipython3",
   "version": "3.7.5"
  }
 },
 "nbformat": 4,
 "nbformat_minor": 4
}
